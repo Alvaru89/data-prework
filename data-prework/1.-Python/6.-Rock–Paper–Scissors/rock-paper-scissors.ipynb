{
 "cells": [
  {
   "cell_type": "markdown",
   "metadata": {},
   "source": [
    "<img src=\"https://bit.ly/2VnXWr2\" width=\"100\" align=\"left\">"
   ]
  },
  {
   "cell_type": "markdown",
   "metadata": {},
   "source": [
    "# Rock, Paper & Scissors\n",
    "\n",
    "Let's play the famous game against our computer. You can check the rules [here](https://en.wikipedia.org/wiki/Rock%E2%80%93paper%E2%80%93scissors). \n",
    "\n",
    "## Task\n",
    "Create a program that imitates the playability of the well known game of rock, paper, scissors. Follow the guidelines provided.\n",
    "\n",
    "## Tools\n",
    "1. Loop: **for/while**\n",
    "2. Functions: **input(), print()...**\n",
    "3. Conditional statements: **if, elif, else**\n",
    "4. Definition of functions. Modular programming\n",
    "5. Import modules\n",
    "\n",
    "**To solve this challenge, the use of functions is recommended.**\n",
    "\n",
    "#### 1. Import the choice function of the random module."
   ]
  },
  {
   "cell_type": "code",
   "execution_count": 1,
   "metadata": {},
   "outputs": [],
   "source": [
    "import random"
   ]
  },
  {
   "cell_type": "markdown",
   "metadata": {},
   "source": [
    "#### 2. Create a list that includes the 3 possible gesture options of the game: 'rock', 'paper' or 'scissors'. Store the list in a variable called `gestures`."
   ]
  },
  {
   "cell_type": "code",
   "execution_count": 2,
   "metadata": {},
   "outputs": [],
   "source": [
    "gestures=('rock', 'paper','scissors')"
   ]
  },
  {
   "cell_type": "markdown",
   "metadata": {},
   "source": [
    "#### 3. Create a variable called `n_rounds` to store the maximum number of rounds to play in a game. \n",
    "Remember that the number of rounds must be odd: 1, 3, 5, ..."
   ]
  },
  {
   "cell_type": "code",
   "execution_count": 3,
   "metadata": {},
   "outputs": [
    {
     "name": "stdout",
     "output_type": "stream",
     "text": [
      "1\n"
     ]
    }
   ],
   "source": [
    "n_rounds=int(input())\n",
    "while n_rounds%2==0:\n",
    "    print(\"Please introduce an odd number\")\n",
    "    n_rounds=int(input())"
   ]
  },
  {
   "cell_type": "markdown",
   "metadata": {},
   "source": [
    "#### 4. Create a variable called `rounds_to_win` to store the number of rounds that a player must win to win the game.\n",
    "**Hint**: the value stored in `rounds_to_win` depends on the value of `n_rounds`. "
   ]
  },
  {
   "cell_type": "code",
   "execution_count": 17,
   "metadata": {},
   "outputs": [
    {
     "name": "stdout",
     "output_type": "stream",
     "text": [
      "1\n"
     ]
    }
   ],
   "source": [
    "rounds_to_win=round(n_rounds/2)+1\n",
    "print(rounds_to_win)"
   ]
  },
  {
   "cell_type": "markdown",
   "metadata": {},
   "source": [
    "#### 5. Create two variables to store the number of rounds that the computer and the player have won. Call these variables `cpu_score` and `player_score`."
   ]
  },
  {
   "cell_type": "code",
   "execution_count": 16,
   "metadata": {},
   "outputs": [],
   "source": [
    "cpu_score=0\n",
    "player_score=0"
   ]
  },
  {
   "cell_type": "markdown",
   "metadata": {},
   "source": [
    "#### 6. Define a function that randomly returns one of the 3 gesture options.\n",
    "You will use this function to simulate the gesture choice of the computer. "
   ]
  },
  {
   "cell_type": "code",
   "execution_count": 5,
   "metadata": {},
   "outputs": [],
   "source": [
    "def computer_func():\n",
    "    i=random.randint(0,2)\n",
    "    return gestures[i]"
   ]
  },
  {
   "cell_type": "markdown",
   "metadata": {},
   "source": [
    "#### 7. Define a function that asks the player which is the gesture he or she wants to show: 'rock', 'paper' or 'scissors'.\n",
    "The player should only be allowed to choose one of the 3 gesture options. If the player's choice is not rock, paper or scissors, keep asking until it is."
   ]
  },
  {
   "cell_type": "code",
   "execution_count": 6,
   "metadata": {},
   "outputs": [],
   "source": [
    "def player():\n",
    "    print('Which gesture do you want to show? Choose rock, paper or scissors')\n",
    "    choice=input()\n",
    "    while choice!='rock' and choice!='paper' and choice!='scissors':\n",
    "        print('Please try again')\n",
    "        choice=input()\n",
    "    return choice"
   ]
  },
  {
   "cell_type": "markdown",
   "metadata": {},
   "source": [
    "#### 8. Define a function that checks who won a round. \n",
    "The function should return 0 if there is a tie, 1 if the computer wins and 2 if the player wins."
   ]
  },
  {
   "cell_type": "code",
   "execution_count": 7,
   "metadata": {},
   "outputs": [],
   "source": [
    "def checker(result):\n",
    "    if result=='tie':\n",
    "        return 0\n",
    "    if result=='computer':\n",
    "        return 1\n",
    "    if result=='player':\n",
    "        return 2\n",
    "    "
   ]
  },
  {
   "cell_type": "markdown",
   "metadata": {},
   "source": [
    "#### 9. Define a function that prints the choice of the computer, the choice of the player and a message that announces who won the current round. \n",
    "You should also use this function to update the variables that count the number of rounds that the computer and the player have won. The score of the winner increases by one point. If there is a tie, the score does not increase."
   ]
  },
  {
   "cell_type": "code",
   "execution_count": 12,
   "metadata": {},
   "outputs": [],
   "source": [
    "def printer (player_choice,computer_choice,result,player_score,cpu_score):\n",
    "    print('The player choice is ', player_choice)\n",
    "    print('The computer choice is ', computer_choice)\n",
    "    if result=='computer':\n",
    "        cpu_score=cpu_score+1\n",
    "        print('The winner of this round is ',result)\n",
    "    elif result=='player':\n",
    "        player_score=player_score+1\n",
    "        print('The winner of this round is ',result)\n",
    "    elif result=='tie':\n",
    "        print('No winner this rounds. It is a tie.')\n",
    "    return player_score,cpu_score"
   ]
  },
  {
   "cell_type": "markdown",
   "metadata": {},
   "source": [
    "#### 10. Now it's time to code the execution of the game using the functions and variables you defined above. \n",
    "\n",
    "First, create a loop structure that repeats while no player reaches the minimum score necessary to win and the number of rounds is less than the maximum number of rounds to play in a game.  \n",
    "\n",
    "Inside the loop, use the functions and variables above to create the execution of a round: ask for the player's choice, generate the random choice of the computer, show the round results, update the scores, etc. "
   ]
  },
  {
   "cell_type": "code",
   "execution_count": 17,
   "metadata": {},
   "outputs": [
    {
     "name": "stdout",
     "output_type": "stream",
     "text": [
      "How many rounds do you want to play?\n",
      "1\n",
      "Which gesture do you want to show? Choose rock, paper or scissors\n",
      "rock\n",
      "The player choice is  rock\n",
      "The computer choice is  rock\n",
      "No winner this rounds. It is a tie.\n",
      "Which gesture do you want to show? Choose rock, paper or scissors\n",
      "rock\n",
      "The player choice is  rock\n",
      "The computer choice is  rock\n",
      "No winner this rounds. It is a tie.\n",
      "Which gesture do you want to show? Choose rock, paper or scissors\n",
      "rock\n",
      "The player choice is  rock\n",
      "The computer choice is  scissors\n",
      "The winner of this round is  player\n"
     ]
    }
   ],
   "source": [
    "print('How many rounds do you want to play?')\n",
    "n_rounds=int(input())\n",
    "while n_rounds%2==0:\n",
    "    print(\"Please introduce an odd number\")\n",
    "    n_rounds=int(input())\n",
    "\n",
    "rounds_to_win=round(n_rounds/2)+1\n",
    "cpu_score=0\n",
    "player_score=0\n",
    "while cpu_score<rounds_to_win and player_score<rounds_to_win:\n",
    "    player_choice=player()\n",
    "    computer_choice=computer_func()\n",
    "\n",
    "    if player_choice=='rock':\n",
    "        if computer_choice=='rock':\n",
    "            result='tie'\n",
    "        elif computer_choice=='paper':\n",
    "            result='computer'\n",
    "        elif computer_choice=='scissors':\n",
    "            result='player'\n",
    "\n",
    "    elif player_choice=='paper':\n",
    "        if computer_choice=='paper':\n",
    "            result='tie'\n",
    "        elif computer_choice=='scissors':\n",
    "            result='computer'\n",
    "        elif computer_choice=='rock':\n",
    "            result='player'\n",
    "          \n",
    "            \n",
    "    elif player_choice=='scissors':\n",
    "        if computer_choice=='scissors':\n",
    "            result='tie'\n",
    "        elif computer_choice=='rock':\n",
    "            result='computer'\n",
    "        elif computer_choice=='paper':\n",
    "            result='player'\n",
    "    winner=checker(result)                       \n",
    "            \n",
    "    temp=printer(player_choice,computer_choice,result,player_score,cpu_score)\n",
    "    player_score=temp[0]\n",
    "    cpu_score=temp[1]\n"
   ]
  },
  {
   "cell_type": "markdown",
   "metadata": {},
   "source": [
    "#### 11. Print the winner of the game based on who won more rounds.\n",
    "Remember that the game might be tied. "
   ]
  },
  {
   "cell_type": "code",
   "execution_count": 19,
   "metadata": {},
   "outputs": [
    {
     "name": "stdout",
     "output_type": "stream",
     "text": [
      "Player wins\n"
     ]
    }
   ],
   "source": [
    "if cpu_score==rounds_to_win:\n",
    "    print('Computer wins')\n",
    "elif player_score==rounds_to_win:\n",
    "    print('Player wins')"
   ]
  },
  {
   "cell_type": "markdown",
   "metadata": {},
   "source": [
    "# Bonus: Rock, Paper, Scissors, Lizard & Spock\n",
    "![](images/rpsls.jpg)\n",
    "\n",
    "In this challenge, you need to improve the previous game by adding two new options. To know more about the rules of the improved version of rock, paper, scissors, check this [link](http://www.samkass.com/theories/RPSSL.html). \n",
    "\n",
    "In addition, you will also need to improve how the game interacts with the player: the number of rounds to play, which must be an odd number, will be requested to the user until a valid number is entered. Define a new function to make that request.\n",
    "\n",
    "**Hint**: Try to reuse the code that you already coded in the previous challenge. If your code is efficient, this bonus will only consist of simple modifications to the original game."
   ]
  },
  {
   "cell_type": "code",
   "execution_count": 21,
   "metadata": {},
   "outputs": [
    {
     "name": "stdout",
     "output_type": "stream",
     "text": [
      "How many rounds do you want to play?\n",
      "1\n",
      "Which gesture do you want to show? Choose rock, paper, scissors, spock or lizard\n",
      "spock\n",
      "The player choice is  spock\n",
      "The computer choice is  rock\n",
      "The winner of this round is  player\n",
      "Player wins\n"
     ]
    }
   ],
   "source": [
    "gestures2=('rock', 'paper','scissors','spock', 'lizard')\n",
    "def player2():\n",
    "    print('Which gesture do you want to show? Choose rock, paper, scissors, spock or lizard')\n",
    "    choice=input()\n",
    "    while choice!='rock' and choice!='paper' and choice!='scissors' and choice!='spock' and choice!='lizard':\n",
    "        print('Please try again')\n",
    "        choice=input()\n",
    "    return choice\n",
    "\n",
    "print('How many rounds do you want to play?')\n",
    "n_rounds=int(input())\n",
    "while n_rounds%2==0:\n",
    "    print(\"Please introduce an odd number\")\n",
    "    n_rounds=int(input())\n",
    "\n",
    "rounds_to_win=round(n_rounds/2)+1\n",
    "cpu_score=0\n",
    "player_score=0\n",
    "while cpu_score<rounds_to_win and player_score<rounds_to_win:\n",
    "    player_choice=player2()\n",
    "    computer_choice=computer_func()\n",
    "\n",
    "    if player_choice=='rock':\n",
    "        if computer_choice=='rock':\n",
    "            result='tie'\n",
    "        elif computer_choice=='paper':\n",
    "            result='computer'\n",
    "        elif computer_choice=='scissors':\n",
    "            result='player'\n",
    "        elif computer_choice=='spock':\n",
    "            result='computer'\n",
    "        elif computer_choice=='lizard':\n",
    "            result='player'\n",
    "            \n",
    "    elif player_choice=='paper':\n",
    "        if computer_choice=='paper':\n",
    "            result='tie'\n",
    "        elif computer_choice=='scissors':\n",
    "            result='computer'\n",
    "        elif computer_choice=='rock':\n",
    "            result='player'\n",
    "        elif computer_choice=='spock':\n",
    "            result='player'\n",
    "        elif computer_choice=='lizard':\n",
    "            result='computer'       \n",
    "            \n",
    "    elif player_choice=='scissors':\n",
    "        if computer_choice=='scissors':\n",
    "            result='tie'\n",
    "        elif computer_choice=='rock':\n",
    "            result='computer'\n",
    "        elif computer_choice=='paper':\n",
    "            result='player'\n",
    "        elif computer_choice=='spock':\n",
    "            result='computer'\n",
    "        elif computer_choice=='lizard':\n",
    "            result='player'  \n",
    "            \n",
    "    elif player_choice=='spock':\n",
    "        if computer_choice=='scissors':\n",
    "            result='player'\n",
    "        elif computer_choice=='rock':\n",
    "            result='player'\n",
    "        elif computer_choice=='paper':\n",
    "            result='computer'\n",
    "        elif computer_choice=='spock':\n",
    "            result='tie'\n",
    "        elif computer_choice=='lizard':\n",
    "            result='player'             \n",
    "                        \n",
    "    elif player_choice=='lizard':\n",
    "        if computer_choice=='scissors':\n",
    "            result='computer'\n",
    "        elif computer_choice=='rock':\n",
    "            result='computer'\n",
    "        elif computer_choice=='paper':\n",
    "            result='player'\n",
    "        elif computer_choice=='spock':\n",
    "            result='player'\n",
    "        elif computer_choice=='lizard':\n",
    "            result='tie'                 \n",
    "            \n",
    "    winner=checker(result)                       \n",
    "            \n",
    "    temp=printer(player_choice,computer_choice,result,player_score,cpu_score)\n",
    "    player_score=temp[0]\n",
    "    cpu_score=temp[1]\n",
    "    \n",
    "if cpu_score==rounds_to_win:\n",
    "    print('Computer wins')\n",
    "elif player_score==rounds_to_win:\n",
    "    print('Player wins')\n"
   ]
  },
  {
   "cell_type": "code",
   "execution_count": null,
   "metadata": {},
   "outputs": [],
   "source": []
  }
 ],
 "metadata": {
  "kernelspec": {
   "display_name": "Python 3",
   "language": "python",
   "name": "python3"
  },
  "language_info": {
   "codemirror_mode": {
    "name": "ipython",
    "version": 3
   },
   "file_extension": ".py",
   "mimetype": "text/x-python",
   "name": "python",
   "nbconvert_exporter": "python",
   "pygments_lexer": "ipython3",
   "version": "3.7.3"
  }
 },
 "nbformat": 4,
 "nbformat_minor": 2
}
